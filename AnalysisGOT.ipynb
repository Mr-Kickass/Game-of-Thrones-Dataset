{
 "cells": [
  {
   "cell_type": "code",
   "execution_count": 103,
   "metadata": {
    "collapsed": true
   },
   "outputs": [],
   "source": [
    "import tensorflow as tf\n",
    "import pandas as pd\n",
    "import numpy as np\n",
    "import matplotlib.pyplot as plt\n",
    "import seaborn as sns\n",
    "import matplotlib as mpl\n",
    "from collections import Counter\n",
    "import matplotlib.patches as mpatches\n",
    "sns.set_style(\"white\")\n"
   ]
  },
  {
   "cell_type": "code",
   "execution_count": 104,
   "metadata": {
    "collapsed": true
   },
   "outputs": [],
   "source": [
    "plt.rcParams[\"axes.labelsize\"] = 16.\n",
    "plt.rcParams[\"xtick.labelsize\"] = 14.\n",
    "plt.rcParams[\"ytick.labelsize\"] = 14.\n",
    "plt.rcParams[\"legend.fontsize\"] = 12.\n",
    "plt.rcParams[\"figure.figsize\"] = [15., 6.]"
   ]
  },
  {
   "cell_type": "code",
   "execution_count": 105,
   "metadata": {
    "collapsed": true
   },
   "outputs": [],
   "source": [
    "battles=pd.read_csv('battles.csv')\n",
    "character_prediction=pd.read_csv('character-predictions.csv')\n",
    "character_deaths=pd.read_csv('character-deaths.csv')"
   ]
  },
  {
   "cell_type": "code",
   "execution_count": 106,
   "metadata": {
    "collapsed": false
   },
   "outputs": [],
   "source": [
    "#define additional columns related to defender count, attacker count, commander on attacking side, no of books a character appeared in\n",
    "\n",
    "#battles.loc[:,'defender_count']\n",
    "#list=[x for x in [battles[['defender_1','defender_2','defender_3','defender_4']]]]\n",
    "\n",
    "\n",
    "#[x for x in battles[['defender_1','defender_2','defender_3','defender_4']]]\n",
    "#battles[['defender_1','defender_2','defender_3','defender_4']]\n",
    "battles.loc[:,'defender_count']=4-battles[['defender_1','defender_2','defender_3','defender_4']].isnull().sum(axis=1)\n",
    "battles.loc[:,'attacker_count']=4-battles[['attacker_1','attacker_2','attacker_3','attacker_4']].isnull().sum(axis=1)\n",
    "#battles.loc[:,'att_comm_count']=4-battles[['defender_1','defender_2','defender_3','defender_4']].isnull().sum(axis=1)\n",
    "battles.loc[:,'att_comm_count']=[len(x.split(',')) if pd.isnull(x)!=True else np.nan for x in battles['attacker_commander']]"
   ]
  },
  {
   "cell_type": "code",
   "execution_count": 107,
   "metadata": {
    "collapsed": false
   },
   "outputs": [
    {
     "data": {
      "text/plain": [
       "[numpy.float64,\n",
       " numpy.float64,\n",
       " numpy.float64,\n",
       " numpy.float64,\n",
       " numpy.float64,\n",
       " numpy.float64,\n",
       " numpy.float64,\n",
       " numpy.float64,\n",
       " numpy.float64,\n",
       " numpy.float64,\n",
       " numpy.float64,\n",
       " numpy.float64,\n",
       " numpy.float64,\n",
       " numpy.float64,\n",
       " numpy.float64,\n",
       " numpy.float64,\n",
       " numpy.float64,\n",
       " numpy.float64,\n",
       " numpy.float64,\n",
       " numpy.float64,\n",
       " numpy.float64,\n",
       " numpy.float64,\n",
       " numpy.float64,\n",
       " numpy.float64,\n",
       " numpy.float64,\n",
       " numpy.float64,\n",
       " numpy.float64,\n",
       " numpy.float64,\n",
       " numpy.float64,\n",
       " numpy.float64,\n",
       " numpy.float64,\n",
       " numpy.float64,\n",
       " numpy.float64,\n",
       " numpy.float64,\n",
       " numpy.float64,\n",
       " numpy.float64,\n",
       " numpy.float64,\n",
       " numpy.float64]"
      ]
     },
     "execution_count": 107,
     "metadata": {},
     "output_type": "execute_result"
    }
   ],
   "source": [
    "# number of commanders on attacking side\n",
    "[type(x) for x in battles['att_comm_count']]\n",
    "#[type(len(x.split(','))) if pd.isnull(x)!=True else np.nan for x in battles['attacker_commander']]\n"
   ]
  },
  {
   "cell_type": "code",
   "execution_count": 112,
   "metadata": {
    "collapsed": false
   },
   "outputs": [],
   "source": [
    "character_prediction.loc[:,'no_of_books']=character_prediction[['book1', 'book2', 'book3', 'book4', 'book5']].sum(axis=1)"
   ]
  },
  {
   "cell_type": "code",
   "execution_count": 163,
   "metadata": {
    "collapsed": false
   },
   "outputs": [
    {
     "data": {
      "text/plain": [
       "pandas.core.series.Series"
      ]
     },
     "execution_count": 163,
     "metadata": {},
     "output_type": "execute_result"
    }
   ],
   "source": [
    "battles[['year','major_capture']].groupby('year').size()"
   ]
  },
  {
   "cell_type": "code",
   "execution_count": 170,
   "metadata": {
    "collapsed": false
   },
   "outputs": [
    {
     "data": {
      "image/png": "[encoded data removed]",
      "text/plain": [
       "<matplotlib.figure.Figure at 0xebec4e0>"
      ]
     },
     "metadata": {},
     "output_type": "display_data"
    }
   ],
   "source": [
    "#battles[['year','major_capture']].groupby('year').size()\n",
    "mc=battles[['year','major_capture']].groupby('year').size().as_matrix()\n",
    "year=battles['year'].unique()\n",
    "plt.bar(year,mc)\n",
    "plt.show()"
   ]
  },
  {
   "cell_type": "code",
   "execution_count": 149,
   "metadata": {
    "collapsed": false
   },
   "outputs": [
    {
     "data": {
      "text/plain": [
       "20"
      ]
     },
     "execution_count": 149,
     "metadata": {},
     "output_type": "execute_result"
    }
   ],
   "source": [
    "c=0\n",
    "for _ in range(battles['major_capture'].size):\n",
    "    if(battles['year'][_]==299):\n",
    "        c=c+1\n",
    "        battles['major_capture'][_]\n",
    "c        "
   ]
  },
  {
   "cell_type": "code",
   "execution_count": 185,
   "metadata": {
    "collapsed": false
   },
   "outputs": [
    {
     "data": {
      "text/plain": [
       "[1,\n",
       " 1,\n",
       " 2,\n",
       " 5,\n",
       " 2,\n",
       " 3,\n",
       " 1,\n",
       " 1,\n",
       " 1,\n",
       " 1,\n",
       " 2,\n",
       " 1,\n",
       " 1,\n",
       " 2,\n",
       " 2,\n",
       " 2,\n",
       " 6,\n",
       " 3,\n",
       " 3,\n",
       " 6,\n",
       " 1,\n",
       " 2,\n",
       " nan,\n",
       " 1,\n",
       " 1,\n",
       " 3,\n",
       " 1,\n",
       " 5,\n",
       " 1,\n",
       " 1,\n",
       " 2,\n",
       " 2,\n",
       " 2,\n",
       " 2,\n",
       " 2,\n",
       " 3,\n",
       " 2,\n",
       " 1]"
      ]
     },
     "execution_count": 185,
     "metadata": {},
     "output_type": "execute_result"
    }
   ],
   "source": [
    "[len(x.split(',')) if pd.isnull(x)!=True else np.nan for x in battles['attacker_commander']]\n",
    "#[len(x) if type(x) == list else np.nan for x in battles.attacker_commander]"
   ]
  },
  {
   "cell_type": "code",
   "execution_count": null,
   "metadata": {
    "collapsed": true
   },
   "outputs": [],
   "source": []
  }
 ],
 "metadata": {
  "anaconda-cloud": {},
  "kernelspec": {
   "display_name": "Python [default]",
   "language": "python",
   "name": "python3"
  },
  "language_info": {
   "codemirror_mode": {
    "name": "ipython",
    "version": 3
   },
   "file_extension": ".py",
   "mimetype": "text/x-python",
   "name": "python",
   "nbconvert_exporter": "python",
   "pygments_lexer": "ipython3",
   "version": "3.5.2"
  }
 },
 "nbformat": 4,
 "nbformat_minor": 1
}
